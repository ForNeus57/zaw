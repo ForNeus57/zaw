{
 "cells": [
  {
   "cell_type": "code",
   "outputs": [],
   "source": [
    "import cv2\n",
    "import numpy as np"
   ],
   "metadata": {
    "collapsed": false,
    "ExecuteTime": {
     "end_time": "2024-03-14T09:45:45.224132Z",
     "start_time": "2024-03-14T09:45:45.220648Z"
    }
   },
   "id": "initial_id",
   "execution_count": 145
  },
  {
   "cell_type": "code",
   "outputs": [],
   "source": [
    "from pathlib import Path\n",
    "from typing import ClassVar, Tuple, Final\n",
    "from os.path import exists\n",
    "\n",
    "BACKGROUND_BRIGHTNESS: Final[int] = 0\n",
    "FIRST_PLAN_BRIGHTNESS: Final[int] = 255\n",
    "\n",
    "\n",
    "class FirstPlanObjectDetection:\n",
    "\tdestination_directory: ClassVar[Path] = Path('./data')\n",
    "\tground_truth_directory: ClassVar[Path] = Path('groundtruth')\n",
    "\tinput_directory: ClassVar[Path] = Path('input')\n",
    "\troi_directory: ClassVar[Path] = Path('temporalROI.txt')\n",
    "\t\n",
    "\tdef __init__(self, data_file: Path) -> None:\n",
    "\t\tself.base_directory: Path = FirstPlanObjectDetection.destination_directory / Path(data_file.stem).stem\n",
    "\t\tif not exists(self.base_directory):\n",
    "\t\t\timport tarfile\n",
    "\t\t\twith tarfile.open(data_file, 'r:xz') as tar_file:\n",
    "\t\t\t\ttar_file.extractall(self.destination_directory)\n",
    "\t\t\n",
    "\t\twith open(self.base_directory / FirstPlanObjectDetection.roi_directory, 'r') as roi_file:\n",
    "\t\t\tself.start, self.end = map(int, roi_file.read().split())\n",
    "\t\t\n",
    "\t\tself.step: Final[int] = 1\n",
    "\t\tself.image_input: str = (self.base_directory / FirstPlanObjectDetection.input_directory / 'in%06d.jpg').absolute().as_posix()\n",
    "\t\tself.image_ground_truth_input: str = (self.base_directory / FirstPlanObjectDetection.ground_truth_directory / 'gt%06d.png').absolute().as_posix()\n",
    "\t\t\n",
    "\t\tprint(self.base_directory.as_posix())\n",
    "\t\t\n",
    "\t\t# for index in range(self.start, self.end):\n",
    "\t\t# \timage: np.ndarray = cv2.imread(self.image_input % index)\n",
    "\t\t# \t\n",
    "\t\t# \tcv2.imshow('Image', image)\n",
    "\t\t# \tcv2.waitKey(10)\n",
    "\t\t# \t\n",
    "\t\tcv2.destroyAllWindows()\n",
    "\t\n",
    "\tdef compile(self) -> Tuple[float, float, float]:\n",
    "\t\tsecond_image: np.ndarray = cv2.cvtColor(cv2.imread(self.image_input % self.start), cv2.COLOR_BGR2GRAY)\n",
    "\n",
    "\t\ttrue_positive: int = 0\n",
    "\t\ttrue_negative: int = 0\n",
    "\t\tfalse_positive: int = 0\n",
    "\t\tfalse_negative: int = 0\n",
    "\t\t\n",
    "\t\tfor index in range(self.start, self.end, self.step):\n",
    "\t\t\tfirst_image: np.ndarray = second_image\n",
    "\t\t\tsecond_image: np.ndarray = cv2.cvtColor(\n",
    "\t\t\t\tcv2.imread(self.image_input % (index + self.step)),\n",
    "\t\t\t\tcv2.COLOR_BGR2GRAY\n",
    "\t\t\t)\n",
    "\t\t\tground_truth: np.ndarray = cv2.imread(\n",
    "                self.image_ground_truth_input % index,\n",
    "\t\t\t\tcv2.IMREAD_GRAYSCALE\n",
    "\t\t\t)\n",
    "\t\t\t\n",
    "\t\t\tground_truth: np.ndarray = cv2.threshold(ground_truth, 165, 255, cv2.THRESH_BINARY)[1]\n",
    "\t\t\n",
    "\t\t\tdifference: np.ndarray = cv2.absdiff(first_image, second_image.copy())\n",
    "\t\t\tbinary: np.ndarray = cv2.threshold(difference, 13, 255, cv2.THRESH_BINARY)[1]\n",
    "\t\t\tmedian: np.ndarray = cv2.medianBlur(binary, 5)\n",
    "\t\t\tdilated: np.ndarray = cv2.dilate(median, np.ones((3, 3)), iterations=2)\n",
    "\t\t\teroded: np.ndarray = cv2.erode(dilated, np.ones((5, 5)), iterations=1)\n",
    "\t\t\tdilated: np.ndarray = cv2.dilate(eroded, np.ones((3, 3)), iterations=1)\n",
    "\t\t\teroded: np.ndarray = cv2.erode(dilated, np.ones((3, 3)), iterations=1)\n",
    "\t\t\tdilated: np.ndarray = cv2.dilate(eroded, np.ones((3, 3)), iterations=1)\n",
    "\t\t\teroded: np.ndarray = cv2.erode(dilated, np.ones((3, 3)), iterations=1)\n",
    "\t\t\tdilated: np.ndarray = cv2.dilate(eroded, np.ones((5, 5)), iterations=2)\n",
    "\t\t\teroded: np.ndarray = cv2.erode(dilated, np.ones((3, 3)), iterations=1)\n",
    "\t\t\n",
    "\t\t\tretval, labels, stats, centroids = cv2.connectedComponentsWithStats(eroded)\n",
    "\t\t\n",
    "\t\t\timage_visual: np.ndarray = eroded.copy()\n",
    "\t\t\n",
    "\t\t\tif stats.shape[0] > 1: # are  there  any  objects\n",
    "\t\t\t\ttab = stats[1:, 4] # 4 columns  without  first  element\n",
    "\t\t\t\tpi = np.argmax(tab) # finding  the  index  of the  largest  item\n",
    "\t\t\t\tpi += 1 # increment  because  we want  the  index  in stats , not in tab\n",
    "\t\t\t\t# drawing a bbox\n",
    "\t\t\t\tcv2.rectangle(image_visual, (stats[pi, 0], stats[pi, 1]), (stats[pi, 0] + stats[pi, 2], stats[pi, 1] + stats[pi, 3]), (255, 0, 0), 2) # print  information  about  the  field  and the  number  of the  largest  element\n",
    "\t\t\t\tcv2.putText(image_visual, str(stats[pi, 4]), (stats[pi, 0], stats[pi, 1]), cv2.FONT_HERSHEY_SIMPLEX, 0.5, (255, 0, 0))\n",
    "\t\t\t\tcv2.putText(image_visual, str(pi), (np.uint8(centroids[pi, 0]), np.uint8(centroids[pi, 1])), cv2.FONT_HERSHEY_SIMPLEX, 1, (255, 0, 0))\n",
    "\t\t\n",
    "\t\t\ttrue_positive_matrix: np.ndarray = np.logical_and((eroded == FIRST_PLAN_BRIGHTNESS), (ground_truth == FIRST_PLAN_BRIGHTNESS))\n",
    "\t\t\ttrue_negative_matrix: np.ndarray = np.logical_and((eroded == BACKGROUND_BRIGHTNESS), (ground_truth == BACKGROUND_BRIGHTNESS))\n",
    "\t\t\tfalse_positive_matrix: np.ndarray = np.logical_and((eroded == FIRST_PLAN_BRIGHTNESS), (ground_truth == BACKGROUND_BRIGHTNESS))\n",
    "\t\t\tfalse_negative_matrix: np.ndarray = np.logical_and((eroded == BACKGROUND_BRIGHTNESS), (ground_truth == FIRST_PLAN_BRIGHTNESS))\n",
    "\t\t\n",
    "\t\t\ttrue_positive += np.sum(true_positive_matrix)\n",
    "\t\t\ttrue_negative += np.sum(true_negative_matrix)\n",
    "\t\t\tfalse_positive += np.sum(false_positive_matrix)\n",
    "\t\t\tfalse_negative += np.sum(false_negative_matrix)\n",
    "\t\t\n",
    "\t\t\tcv2.imshow('Image', image_visual)\n",
    "\t\t\tcv2.waitKey(10)\n",
    "\t\t\n",
    "\t\tcv2.destroyAllWindows()\n",
    "\t\tprecision: Final[float] = true_positive / (true_positive + false_positive)\n",
    "\t\trecall: Final[float] = true_positive / (true_positive + false_negative)\n",
    "\t\tf1_score: Final[float] = 2 * precision * recall / (precision + recall)\n",
    "\t\treturn precision, recall, f1_score"
   ],
   "metadata": {
    "collapsed": false,
    "ExecuteTime": {
     "end_time": "2024-03-14T09:45:45.236969Z",
     "start_time": "2024-03-14T09:45:45.225136Z"
    }
   },
   "id": "ad603f410313862",
   "execution_count": 146
  },
  {
   "cell_type": "code",
   "outputs": [
    {
     "name": "stdout",
     "output_type": "stream",
     "text": [
      "data/pedestrian\n",
      "Precision: 0.610297\n",
      "Recall: 0.840603\n",
      "F1 Score: 0.707171\n"
     ]
    }
   ],
   "source": [
    "print('Precision: %f\\nRecall: %f\\nF1 Score: %f' % FirstPlanObjectDetection(Path('./pedestrian.tar.xz')).compile())"
   ],
   "metadata": {
    "collapsed": false,
    "ExecuteTime": {
     "end_time": "2024-03-14T09:45:58.616991Z",
     "start_time": "2024-03-14T09:45:45.238159Z"
    }
   },
   "id": "c5981290645f9c56",
   "execution_count": 147
  },
  {
   "cell_type": "code",
   "outputs": [
    {
     "name": "stdout",
     "output_type": "stream",
     "text": [
      "data/highway\n",
      "Precision: 0.783233\n",
      "Recall: 0.929259\n",
      "F1 Score: 0.850020\n"
     ]
    }
   ],
   "source": [
    "print('Precision: %f\\nRecall: %f\\nF1 Score: %f' % FirstPlanObjectDetection(Path('./highway.tar.xz')).compile())"
   ],
   "metadata": {
    "collapsed": false,
    "ExecuteTime": {
     "end_time": "2024-03-14T09:46:18.457637Z",
     "start_time": "2024-03-14T09:45:58.618991Z"
    }
   },
   "id": "85ca1a585b2c2c10",
   "execution_count": 148
  },
  {
   "cell_type": "code",
   "outputs": [
    {
     "name": "stdout",
     "output_type": "stream",
     "text": [
      "data/office\n",
      "Precision: 0.813360\n",
      "Recall: 0.177864\n",
      "F1 Score: 0.291896\n"
     ]
    }
   ],
   "source": [
    "print('Precision: %f\\nRecall: %f\\nF1 Score: %f' % FirstPlanObjectDetection(Path('./office.tar.xz')).compile())"
   ],
   "metadata": {
    "collapsed": false,
    "ExecuteTime": {
     "end_time": "2024-03-14T09:46:44.871068Z",
     "start_time": "2024-03-14T09:46:18.458641Z"
    }
   },
   "id": "8f74fc6e33761d1a",
   "execution_count": 149
  }
 ],
 "metadata": {
  "kernelspec": {
   "name": "zaw",
   "language": "python",
   "display_name": "ZAW"
  },
  "language_info": {
   "codemirror_mode": {
    "name": "ipython",
    "version": 2
   },
   "file_extension": ".py",
   "mimetype": "text/x-python",
   "name": "python",
   "nbconvert_exporter": "python",
   "pygments_lexer": "ipython2",
   "version": "2.7.6"
  }
 },
 "nbformat": 4,
 "nbformat_minor": 5
}
