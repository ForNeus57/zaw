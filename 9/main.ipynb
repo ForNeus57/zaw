{
 "cells": [
  {
   "cell_type": "code",
   "outputs": [],
   "source": [
    "import cv2\n",
    "import matplotlib.pyplot as plt\n",
    "import numpy as np"
   ],
   "metadata": {
    "collapsed": false,
    "ExecuteTime": {
     "end_time": "2024-05-09T10:11:02.713523Z",
     "start_time": "2024-05-09T10:11:02.710981Z"
    }
   },
   "id": "13bb5101c4921665",
   "execution_count": 258
  },
  {
   "cell_type": "code",
   "outputs": [],
   "source": [
    "gears_1: np.ndarray = cv2.imread('trybik.jpg')\n",
    "gears_2: np.ndarray = cv2.imread('trybiki2.jpg')\n",
    "\n",
    "gears_inverted_1: np.ndarray = cv2.bitwise_not(gears_1)\n",
    "gears_inverted_2: np.ndarray = cv2.bitwise_not(gears_2)"
   ],
   "metadata": {
    "collapsed": false,
    "ExecuteTime": {
     "end_time": "2024-05-09T10:11:02.727001Z",
     "start_time": "2024-05-09T10:11:02.717011Z"
    }
   },
   "id": "956010d5c9816ee1",
   "execution_count": 259
  },
  {
   "cell_type": "code",
   "execution_count": 260,
   "id": "initial_id",
   "metadata": {
    "collapsed": true,
    "ExecuteTime": {
     "end_time": "2024-05-09T10:11:02.731813Z",
     "start_time": "2024-05-09T10:11:02.728125Z"
    }
   },
   "outputs": [],
   "source": [
    "from typing import List\n",
    "\n",
    "\n",
    "def contour(image: np.ndarray) -> List:\n",
    "    gray = cv2.cvtColor(image, cv2.COLOR_BGR2GRAY)\n",
    "    _, binary = cv2.threshold(gray, 0, 255, type=cv2.THRESH_BINARY | cv2.THRESH_OTSU)\n",
    "    contours, hierarchy = cv2.findContours(binary, cv2.RETR_TREE, cv2.CHAIN_APPROX_NONE)\n",
    "    \n",
    "    return contours"
   ]
  },
  {
   "cell_type": "code",
   "outputs": [
    {
     "data": {
      "text/plain": "32"
     },
     "execution_count": 261,
     "metadata": {},
     "output_type": "execute_result"
    }
   ],
   "source": [
    "lista = contour(gears_inverted_1)\n",
    "\n",
    "len(lista)"
   ],
   "metadata": {
    "collapsed": false,
    "ExecuteTime": {
     "end_time": "2024-05-09T10:11:02.741343Z",
     "start_time": "2024-05-09T10:11:02.732820Z"
    }
   },
   "id": "921b58fcb1e204e0",
   "execution_count": 261
  },
  {
   "cell_type": "code",
   "outputs": [
    {
     "name": "stdout",
     "output_type": "stream",
     "text": [
      "index=0 len(lista)=332\n",
      "index=1 len(lista)=332\n",
      "index=2 len(lista)=332\n",
      "index=3 len(lista)=332\n",
      "index=4 len(lista)=332\n",
      "index=5 len(lista)=332\n",
      "index=6 len(lista)=332\n",
      "index=7 len(lista)=332\n",
      "index=8 len(lista)=332\n",
      "index=9 len(lista)=332\n",
      "index=10 len(lista)=332\n",
      "index=11 len(lista)=332\n",
      "index=12 len(lista)=332\n",
      "index=13 len(lista)=332\n",
      "index=14 len(lista)=332\n",
      "index=15 len(lista)=332\n",
      "index=16 len(lista)=332\n",
      "index=17 len(lista)=332\n",
      "index=18 len(lista)=332\n",
      "index=19 len(lista)=332\n",
      "index=20 len(lista)=332\n",
      "index=21 len(lista)=332\n",
      "index=22 len(lista)=332\n",
      "index=23 len(lista)=332\n",
      "index=24 len(lista)=332\n",
      "index=25 len(lista)=332\n",
      "index=26 len(lista)=332\n",
      "index=27 len(lista)=332\n",
      "index=28 len(lista)=332\n",
      "index=29 len(lista)=332\n",
      "index=30 len(lista)=332\n",
      "index=31 len(lista)=332\n",
      "index=32 len(lista)=332\n",
      "index=33 len(lista)=332\n",
      "index=34 len(lista)=332\n",
      "index=35 len(lista)=332\n",
      "index=36 len(lista)=332\n",
      "index=37 len(lista)=332\n",
      "index=38 len(lista)=332\n",
      "index=39 len(lista)=332\n",
      "index=40 len(lista)=332\n",
      "index=41 len(lista)=332\n",
      "index=42 len(lista)=332\n",
      "index=43 len(lista)=332\n",
      "index=44 len(lista)=332\n",
      "index=45 len(lista)=332\n",
      "index=46 len(lista)=332\n",
      "index=47 len(lista)=332\n",
      "index=48 len(lista)=332\n",
      "index=49 len(lista)=332\n",
      "index=50 len(lista)=332\n",
      "index=51 len(lista)=332\n",
      "index=52 len(lista)=332\n",
      "index=53 len(lista)=332\n",
      "index=54 len(lista)=332\n",
      "index=55 len(lista)=332\n",
      "index=56 len(lista)=332\n",
      "index=57 len(lista)=332\n",
      "index=58 len(lista)=332\n",
      "index=59 len(lista)=332\n",
      "index=60 len(lista)=332\n",
      "index=61 len(lista)=332\n",
      "index=62 len(lista)=332\n",
      "index=63 len(lista)=332\n",
      "index=64 len(lista)=332\n",
      "index=65 len(lista)=332\n",
      "index=66 len(lista)=332\n",
      "index=67 len(lista)=332\n",
      "index=68 len(lista)=332\n",
      "index=69 len(lista)=332\n",
      "index=70 len(lista)=332\n",
      "index=71 len(lista)=332\n",
      "index=72 len(lista)=332\n",
      "index=73 len(lista)=332\n",
      "index=74 len(lista)=332\n",
      "index=75 len(lista)=332\n",
      "index=76 len(lista)=332\n",
      "index=77 len(lista)=332\n",
      "index=78 len(lista)=332\n",
      "index=79 len(lista)=332\n",
      "index=80 len(lista)=332\n",
      "index=81 len(lista)=332\n",
      "index=82 len(lista)=332\n",
      "index=83 len(lista)=332\n",
      "index=84 len(lista)=332\n",
      "index=85 len(lista)=332\n",
      "index=86 len(lista)=332\n",
      "index=87 len(lista)=332\n",
      "index=88 len(lista)=332\n",
      "index=89 len(lista)=332\n",
      "index=90 len(lista)=332\n",
      "index=91 len(lista)=332\n",
      "index=92 len(lista)=332\n",
      "index=93 len(lista)=332\n",
      "index=94 len(lista)=332\n",
      "index=95 len(lista)=332\n",
      "index=96 len(lista)=332\n",
      "index=97 len(lista)=332\n",
      "index=98 len(lista)=332\n",
      "index=99 len(lista)=332\n",
      "index=100 len(lista)=332\n",
      "index=101 len(lista)=332\n",
      "index=102 len(lista)=332\n",
      "index=103 len(lista)=332\n",
      "index=104 len(lista)=332\n",
      "index=105 len(lista)=332\n",
      "index=106 len(lista)=332\n",
      "index=107 len(lista)=332\n",
      "index=108 len(lista)=332\n",
      "index=109 len(lista)=332\n",
      "index=110 len(lista)=332\n",
      "index=111 len(lista)=332\n",
      "index=112 len(lista)=332\n",
      "index=113 len(lista)=332\n",
      "index=114 len(lista)=332\n",
      "index=115 len(lista)=332\n",
      "index=116 len(lista)=332\n",
      "index=117 len(lista)=332\n",
      "index=118 len(lista)=332\n",
      "index=119 len(lista)=332\n",
      "index=120 len(lista)=332\n",
      "index=121 len(lista)=332\n",
      "index=122 len(lista)=332\n",
      "index=123 len(lista)=332\n",
      "index=124 len(lista)=332\n",
      "index=125 len(lista)=332\n",
      "index=126 len(lista)=332\n",
      "index=127 len(lista)=332\n",
      "index=128 len(lista)=332\n",
      "index=129 len(lista)=332\n",
      "index=130 len(lista)=332\n",
      "index=131 len(lista)=332\n",
      "index=132 len(lista)=332\n",
      "index=133 len(lista)=332\n",
      "index=134 len(lista)=332\n",
      "index=135 len(lista)=332\n",
      "index=136 len(lista)=332\n",
      "index=137 len(lista)=332\n",
      "index=138 len(lista)=332\n",
      "index=139 len(lista)=332\n",
      "index=140 len(lista)=332\n",
      "index=141 len(lista)=332\n",
      "index=142 len(lista)=332\n",
      "index=143 len(lista)=332\n",
      "index=144 len(lista)=332\n",
      "index=145 len(lista)=332\n",
      "index=146 len(lista)=332\n",
      "index=147 len(lista)=332\n",
      "index=148 len(lista)=332\n",
      "index=149 len(lista)=332\n",
      "index=150 len(lista)=332\n",
      "index=151 len(lista)=332\n",
      "index=152 len(lista)=332\n",
      "index=153 len(lista)=332\n",
      "index=154 len(lista)=332\n",
      "index=155 len(lista)=332\n",
      "index=156 len(lista)=332\n",
      "index=157 len(lista)=332\n",
      "index=158 len(lista)=332\n",
      "index=159 len(lista)=332\n",
      "index=160 len(lista)=332\n",
      "index=161 len(lista)=332\n",
      "index=162 len(lista)=332\n",
      "index=163 len(lista)=332\n",
      "index=164 len(lista)=332\n",
      "index=165 len(lista)=332\n",
      "index=166 len(lista)=332\n",
      "index=167 len(lista)=332\n",
      "index=168 len(lista)=332\n",
      "index=169 len(lista)=332\n",
      "index=170 len(lista)=332\n",
      "index=171 len(lista)=332\n",
      "index=172 len(lista)=332\n",
      "index=173 len(lista)=332\n",
      "index=174 len(lista)=332\n",
      "index=175 len(lista)=332\n",
      "index=176 len(lista)=332\n",
      "index=177 len(lista)=332\n",
      "index=178 len(lista)=332\n",
      "index=179 len(lista)=332\n",
      "index=180 len(lista)=332\n",
      "index=181 len(lista)=332\n",
      "index=182 len(lista)=332\n",
      "index=183 len(lista)=332\n",
      "index=184 len(lista)=332\n",
      "index=185 len(lista)=332\n",
      "index=186 len(lista)=332\n",
      "index=187 len(lista)=332\n",
      "index=188 len(lista)=332\n",
      "index=189 len(lista)=332\n",
      "index=190 len(lista)=332\n",
      "index=191 len(lista)=332\n",
      "index=192 len(lista)=332\n",
      "index=193 len(lista)=332\n",
      "index=194 len(lista)=332\n",
      "index=195 len(lista)=332\n",
      "index=196 len(lista)=332\n",
      "index=197 len(lista)=332\n",
      "index=198 len(lista)=332\n",
      "index=199 len(lista)=332\n",
      "index=200 len(lista)=332\n",
      "index=201 len(lista)=332\n",
      "index=202 len(lista)=332\n",
      "index=203 len(lista)=332\n",
      "index=204 len(lista)=332\n",
      "index=205 len(lista)=332\n",
      "index=206 len(lista)=332\n",
      "index=207 len(lista)=332\n",
      "index=208 len(lista)=332\n",
      "index=209 len(lista)=332\n",
      "index=210 len(lista)=332\n",
      "index=211 len(lista)=332\n",
      "index=212 len(lista)=332\n",
      "index=213 len(lista)=332\n",
      "index=214 len(lista)=332\n",
      "index=215 len(lista)=332\n",
      "index=216 len(lista)=332\n",
      "index=217 len(lista)=332\n",
      "index=218 len(lista)=332\n",
      "index=219 len(lista)=332\n",
      "index=220 len(lista)=332\n",
      "index=221 len(lista)=332\n",
      "index=222 len(lista)=332\n",
      "index=223 len(lista)=332\n",
      "index=224 len(lista)=332\n",
      "index=225 len(lista)=332\n",
      "index=226 len(lista)=332\n",
      "index=227 len(lista)=332\n",
      "index=228 len(lista)=332\n",
      "index=229 len(lista)=332\n",
      "index=230 len(lista)=332\n",
      "index=231 len(lista)=332\n",
      "index=232 len(lista)=332\n",
      "index=233 len(lista)=332\n",
      "index=234 len(lista)=332\n",
      "index=235 len(lista)=332\n",
      "index=236 len(lista)=332\n",
      "index=237 len(lista)=332\n",
      "index=238 len(lista)=332\n",
      "index=239 len(lista)=332\n",
      "index=240 len(lista)=332\n",
      "index=241 len(lista)=332\n",
      "index=242 len(lista)=332\n",
      "index=243 len(lista)=332\n",
      "index=244 len(lista)=332\n",
      "index=245 len(lista)=332\n",
      "index=246 len(lista)=332\n",
      "index=247 len(lista)=332\n",
      "index=248 len(lista)=332\n",
      "index=249 len(lista)=332\n",
      "index=250 len(lista)=332\n",
      "index=251 len(lista)=332\n",
      "index=252 len(lista)=332\n",
      "index=253 len(lista)=332\n",
      "index=254 len(lista)=332\n",
      "index=255 len(lista)=332\n"
     ]
    }
   ],
   "source": [
    "for index in range(256):\n",
    "    lista = contour(gears_inverted_2)\n",
    "    print(f'{index=} {len(lista)=}')"
   ],
   "metadata": {
    "collapsed": false,
    "ExecuteTime": {
     "end_time": "2024-05-09T10:11:03.286537Z",
     "start_time": "2024-05-09T10:11:02.742479Z"
    }
   },
   "id": "8af0911e054d9c3b",
   "execution_count": 262
  },
  {
   "cell_type": "code",
   "outputs": [],
   "source": [],
   "metadata": {
    "collapsed": false,
    "ExecuteTime": {
     "end_time": "2024-05-09T10:11:03.291630Z",
     "start_time": "2024-05-09T10:11:03.288781Z"
    }
   },
   "id": "852a39438f093cf9",
   "execution_count": 262
  },
  {
   "cell_type": "code",
   "outputs": [],
   "source": [],
   "metadata": {
    "collapsed": false,
    "ExecuteTime": {
     "end_time": "2024-05-09T10:11:03.295630Z",
     "start_time": "2024-05-09T10:11:03.292702Z"
    }
   },
   "id": "38feea25e24dffe5",
   "execution_count": 262
  },
  {
   "cell_type": "code",
   "outputs": [],
   "source": [],
   "metadata": {
    "collapsed": false,
    "ExecuteTime": {
     "end_time": "2024-05-09T10:11:03.299645Z",
     "start_time": "2024-05-09T10:11:03.296748Z"
    }
   },
   "id": "1b76ef70f5d0f351",
   "execution_count": 262
  },
  {
   "cell_type": "code",
   "outputs": [],
   "source": [],
   "metadata": {
    "collapsed": false,
    "ExecuteTime": {
     "end_time": "2024-05-09T10:11:03.304290Z",
     "start_time": "2024-05-09T10:11:03.300657Z"
    }
   },
   "id": "4375e957cef31c60",
   "execution_count": 262
  },
  {
   "cell_type": "code",
   "outputs": [],
   "source": [],
   "metadata": {
    "collapsed": false,
    "ExecuteTime": {
     "end_time": "2024-05-09T10:11:03.308845Z",
     "start_time": "2024-05-09T10:11:03.305423Z"
    }
   },
   "id": "418910b7636c1273",
   "execution_count": 262
  },
  {
   "cell_type": "code",
   "outputs": [],
   "source": [],
   "metadata": {
    "collapsed": false,
    "ExecuteTime": {
     "end_time": "2024-05-09T10:11:03.313722Z",
     "start_time": "2024-05-09T10:11:03.309971Z"
    }
   },
   "id": "4ba35cb50104d061",
   "execution_count": 262
  }
 ],
 "metadata": {
  "kernelspec": {
   "name": "zaw",
   "language": "python",
   "display_name": "ZAW"
  },
  "language_info": {
   "codemirror_mode": {
    "name": "ipython",
    "version": 2
   },
   "file_extension": ".py",
   "mimetype": "text/x-python",
   "name": "python",
   "nbconvert_exporter": "python",
   "pygments_lexer": "ipython2",
   "version": "2.7.6"
  }
 },
 "nbformat": 4,
 "nbformat_minor": 5
}
