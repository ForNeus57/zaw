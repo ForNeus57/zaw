{
 "cells": [
  {
   "cell_type": "code",
   "outputs": [],
   "source": [
    "import cv2\n",
    "import matplotlib.pyplot as plt\n",
    "import numpy as np"
   ],
   "metadata": {
    "collapsed": false
   },
   "id": "13bb5101c4921665",
   "execution_count": null
  },
  {
   "cell_type": "code",
   "outputs": [],
   "source": [
    "%matplotlib inline\n",
    "plt.rcParams['figure.figsize'] = (10, 10)\n",
    "plt.rcParams['image.interpolation'] = 'nearest'"
   ],
   "metadata": {
    "collapsed": false
   },
   "id": "797d2f37cde42ef7",
   "execution_count": null
  },
  {
   "cell_type": "code",
   "outputs": [],
   "source": [
    "gears_1: np.ndarray = cv2.imread('trybik.jpg')\n",
    "gears_gray_1: np.ndarray = cv2.cvtColor(gears_1, cv2.COLOR_BGR2GRAY)\n",
    "gears_2: np.ndarray = cv2.imread('trybiki2.jpg')\n",
    "gears_gray_2: np.ndarray = cv2.cvtColor(gears_2, cv2.COLOR_BGR2GRAY)\n",
    "\n",
    "gears_inverted_1: np.ndarray = cv2.bitwise_not(gears_gray_1)\n",
    "gears_inverted_2: np.ndarray = cv2.bitwise_not(gears_gray_2)"
   ],
   "metadata": {
    "collapsed": false
   },
   "id": "956010d5c9816ee1",
   "execution_count": null
  },
  {
   "cell_type": "code",
   "execution_count": null,
   "id": "initial_id",
   "metadata": {
    "collapsed": true
   },
   "outputs": [],
   "source": [
    "from typing import Tuple, List\n",
    "\n",
    "\n",
    "def contour(image: np.ndarray) -> Tuple[List, int]:\n",
    "    _, binary = cv2.threshold(image, 0, 255, type=cv2.THRESH_BINARY | cv2.THRESH_OTSU)\n",
    "    eroded = cv2.erode(binary, np.full((3, 3), 1), iterations=1)\n",
    "    \n",
    "    contours, _ = cv2.findContours(eroded, cv2.RETR_TREE, cv2.CHAIN_APPROX_NONE)\n",
    "    \n",
    "    maximum_index = max(range(len(contours)), key=lambda x: contours.__getitem__(x).shape[0])\n",
    "    \n",
    "    return contours, maximum_index"
   ]
  },
  {
   "cell_type": "code",
   "outputs": [],
   "source": [
    "contour_list, max_index = contour(gears_inverted_1)\n",
    "\n",
    "plt.axis('off')\n",
    "plt.imshow(\n",
    "    cv2.drawContours(\n",
    "        np.zeros(gears_inverted_1.shape[:2], dtype=np.uint8),\n",
    "        contour_list,\n",
    "        max_index,\n",
    "        color=[255]\n",
    "    ),\n",
    "    cmap='gray'\n",
    ")"
   ],
   "metadata": {
    "collapsed": false
   },
   "id": "921b58fcb1e204e0",
   "execution_count": null
  },
  {
   "cell_type": "code",
   "outputs": [],
   "source": [
    "sobel_x = cv2.Sobel(gears_inverted_1, cv2.CV_64F, 1, 0, ksize=5)\n",
    "sobel_y = cv2.Sobel(gears_inverted_1, cv2.CV_64F, 0, 1, ksize=5)\n",
    "\n",
    "gradient_amplitude = np.sqrt(sobel_x ** 2 + sobel_y ** 2)\n",
    "gradient_amplitude /= np.amax(gradient_amplitude)\n",
    "orientation = ((np.degrees(np.arctan2(sobel_y, sobel_x)) + 360) % 360).astype(np.int32)"
   ],
   "metadata": {
    "collapsed": false
   },
   "id": "8af0911e054d9c3b",
   "execution_count": null
  },
  {
   "cell_type": "code",
   "outputs": [],
   "source": [
    "reference_point = cv2.moments(contour_list[max_index], True)\n",
    "\n",
    "c = (int(reference_point['m10'] / reference_point['m00']), int(reference_point['m01'] / reference_point['m00']))"
   ],
   "metadata": {
    "collapsed": false
   },
   "id": "852a39438f093cf9",
   "execution_count": null
  },
  {
   "cell_type": "code",
   "outputs": [],
   "source": [
    "r_table = [list() for _ in range(360)]\n",
    "\n",
    "c_x, c_y = c\n",
    "\n",
    "for contour in contour_list:\n",
    "    for contour_x, contour_y in contour.reshape(-1, 2):\n",
    "        vector = (contour_x - c_x, contour_y - c_y)\n",
    "        length = np.linalg.norm(vector)\n",
    "        o_x_angle = np.arctan2(vector[1], vector[0])\n",
    "        \n",
    "        r_table[orientation[contour_x, contour_y]].append((length, o_x_angle))\n",
    "\n",
    "r_table"
   ],
   "metadata": {
    "collapsed": false
   },
   "id": "38feea25e24dffe5",
   "execution_count": null
  },
  {
   "cell_type": "code",
   "outputs": [],
   "source": [
    "sobel_x_2 = cv2.Sobel(gears_inverted_2, cv2.CV_64F, 1, 0, ksize=5)\n",
    "sobel_y_2 = cv2.Sobel(gears_inverted_2, cv2.CV_64F, 0, 1, ksize=5)\n",
    "\n",
    "gradient_amplitude_2 = np.sqrt(sobel_x_2 ** 2 + sobel_y_2 ** 2)\n",
    "gradient_amplitude_2 /= np.amax(gradient_amplitude_2)\n",
    "\n",
    "orientation_2 = ((np.degrees(np.arctan2(sobel_y_2, sobel_x_2)) + 360) % 360).astype(np.int32)"
   ],
   "metadata": {
    "collapsed": false
   },
   "id": "1b76ef70f5d0f351",
   "execution_count": null
  },
  {
   "cell_type": "code",
   "outputs": [],
   "source": [
    "image_size_x, image_size_y = gradient_amplitude_2.shape\n",
    "\n",
    "hough_space: np.ndarray = np.zeros((image_size_x, image_size_y, 2), dtype=np.uint8)\n",
    "\n",
    "for x_index in range(image_size_x):\n",
    "    for y_index in range(image_size_y):\n",
    "        if gradient_amplitude_2[x_index, y_index] <= 0.5:\n",
    "            continue\n",
    "        \n",
    "        angle = orientation_2[x_index, y_index]\n",
    "        for radius, alpha in r_table[angle]:\n",
    "            x1 = int(x_index - radius * np.cos(alpha))\n",
    "            y1 = int(y_index - radius * np.sin(alpha))\n",
    "            \n",
    "            if 0 <= x1 < image_size_x and 0 <= y1 < image_size_y:\n",
    "                hough_space[x1, y1, 0] += 1\n",
    "                hough_space[x1, y1, 1] = angle"
   ],
   "metadata": {
    "collapsed": false
   },
   "id": "4375e957cef31c60",
   "execution_count": null
  },
  {
   "cell_type": "code",
   "outputs": [],
   "source": [
    "plt.axis('off')\n",
    "plt.imshow(np.log(hough_space[:, :, 0] + 1), cmap='gray')"
   ],
   "metadata": {
    "collapsed": false
   },
   "id": "f3b4dfa733bde643",
   "execution_count": null
  },
  {
   "cell_type": "code",
   "outputs": [],
   "source": [
    "hough_space[:, :, 0] = cv2.GaussianBlur(hough_space[:, :, 0], (13, 13), 0)"
   ],
   "metadata": {
    "collapsed": false
   },
   "id": "1f8e6db3672578ed",
   "execution_count": null
  },
  {
   "cell_type": "code",
   "outputs": [],
   "source": [
    "top_5 = []\n",
    "\n",
    "border: int = 75\n",
    "\n",
    "hough_space_x, hough_space_y = hough_space[:, :, 0].shape\n",
    "\n",
    "for _ in range(5):\n",
    "    hough_max_x, hough_max_y = np.where(hough_space[:, :, 0] == hough_space[:, :, 0].max())\n",
    "    hough_max_x, hough_max_y = hough_max_x[0], hough_max_y[0]\n",
    "    top_5.append((hough_max_y, hough_max_x))\n",
    "    hough_space[max(0, hough_max_x - border): min(hough_space_x, hough_max_x + border),\n",
    "                max(0, hough_max_y - border): min(hough_space_y, hough_max_y + border),\n",
    "                0] = 0"
   ],
   "metadata": {
    "collapsed": false
   },
   "id": "dc7c3f1fab9fd12c",
   "execution_count": null
  },
  {
   "cell_type": "code",
   "outputs": [],
   "source": [
    "top_5"
   ],
   "metadata": {
    "collapsed": false
   },
   "id": "c57bbc84c13da9e2",
   "execution_count": null
  },
  {
   "cell_type": "code",
   "outputs": [],
   "source": [
    "contours_img = cv2.imread(\"trybiki2.jpg\")\n",
    "\n",
    "for x, y in top_5:\n",
    "    plt.plot(x, y, 'ro')\n",
    "    contours_img = cv2.drawContours(contours_img, contour_list[max_index] + np.array((x, y)) - c, -1, (0, 0, 255), 1)\n",
    "\n",
    "contours_img = cv2.cvtColor(contours_img, cv2.COLOR_BGR2RGB)\n",
    "plt.axis('off')\n",
    "plt.imshow(contours_img)"
   ],
   "metadata": {
    "collapsed": false
   },
   "id": "a5aaa04a68b239d3",
   "execution_count": null
  },
  {
   "cell_type": "code",
   "outputs": [],
   "source": [],
   "metadata": {
    "collapsed": false
   },
   "id": "67fe6387399f81d",
   "execution_count": null
  },
  {
   "cell_type": "code",
   "outputs": [],
   "source": [],
   "metadata": {
    "collapsed": false
   },
   "id": "8d4959484e9b63d6",
   "execution_count": null
  }
 ],
 "metadata": {
  "kernelspec": {
   "name": "zaw",
   "language": "python",
   "display_name": "ZAW"
  },
  "language_info": {
   "codemirror_mode": {
    "name": "ipython",
    "version": 2
   },
   "file_extension": ".py",
   "mimetype": "text/x-python",
   "name": "python",
   "nbconvert_exporter": "python",
   "pygments_lexer": "ipython2",
   "version": "2.7.6"
  }
 },
 "nbformat": 4,
 "nbformat_minor": 5
}
