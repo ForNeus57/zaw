{
 "cells": [
  {
   "cell_type": "code",
   "id": "initial_id",
   "metadata": {
    "collapsed": true,
    "ExecuteTime": {
     "end_time": "2024-06-10T14:28:23.719325Z",
     "start_time": "2024-06-10T14:28:22.881825Z"
    }
   },
   "source": [
    "import cv2\n",
    "import matplotlib.pyplot as plt\n",
    "import numpy as np"
   ],
   "outputs": [],
   "execution_count": 1
  },
  {
   "metadata": {
    "ExecuteTime": {
     "end_time": "2024-06-10T14:28:23.742803Z",
     "start_time": "2024-06-10T14:28:23.720337Z"
    }
   },
   "cell_type": "code",
   "source": [
    "%matplotlib inline\n",
    "plt.rcParams['figure.figsize'] = (10, 10)\n",
    "plt.rcParams['image.interpolation'] = 'nearest'"
   ],
   "id": "38418883cdd0f5eb",
   "outputs": [],
   "execution_count": 2
  },
  {
   "metadata": {},
   "cell_type": "markdown",
   "source": "# Wykrycie kuli (ang. balls)",
   "id": "e1d66ba98708d542"
  },
  {
   "metadata": {
    "ExecuteTime": {
     "end_time": "2024-06-10T14:29:45.316357Z",
     "start_time": "2024-06-10T14:28:23.743812Z"
    }
   },
   "cell_type": "code",
   "source": [
    "def process_frame(current_frame: np.ndarray) -> np.ndarray:\n",
    "    \"\"\"Process single frame and return new frame with detected objects.\"\"\"\n",
    "    original_image: np.ndarray = current_frame.copy()\n",
    "    \n",
    "    \n",
    "\n",
    "    return original_image\n",
    "\n",
    "def process_video(file: str) -> None:\n",
    "    \"\"\"Process video file and display it with detected objects.\"\"\"\n",
    "    capture = cv2.VideoCapture(file)\n",
    "    i = 0\n",
    "    while capture.isOpened():\n",
    "        has_next_frame, current_frame = capture.read()\n",
    "        if not has_next_frame:\n",
    "            break\n",
    "\n",
    "        new_image = process_frame(current_frame)\n",
    "\n",
    "        if i % 1000 == 0:\n",
    "            cv2.imwrite(f'frame_{i}.png', new_image)\n",
    "        \n",
    "        cv2.imshow('Processed video', new_image)\n",
    "        if cv2.waitKey(1) & 0xFF == ord('q'):\n",
    "            break\n",
    "            \n",
    "        i += 1\n",
    "\n",
    "    capture.release()\n",
    "    cv2.destroyAllWindows()\n",
    "\n",
    "process_video('video_2.mp4')"
   ],
   "id": "f12c68139a1422a3",
   "outputs": [],
   "execution_count": 3
  },
  {
   "metadata": {
    "ExecuteTime": {
     "end_time": "2024-06-10T14:29:45.319297Z",
     "start_time": "2024-06-10T14:29:45.317366Z"
    }
   },
   "cell_type": "code",
   "source": "",
   "id": "12984a0551878917",
   "outputs": [],
   "execution_count": 3
  }
 ],
 "metadata": {
  "kernelspec": {
   "display_name": "ZAW",
   "language": "python",
   "name": "zaw"
  },
  "language_info": {
   "codemirror_mode": {
    "name": "ipython",
    "version": 2
   },
   "file_extension": ".py",
   "mimetype": "text/x-python",
   "name": "python",
   "nbconvert_exporter": "python",
   "pygments_lexer": "ipython2",
   "version": "2.7.6"
  }
 },
 "nbformat": 4,
 "nbformat_minor": 5
}
