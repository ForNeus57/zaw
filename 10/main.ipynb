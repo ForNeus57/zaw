{
 "cells": [
  {
   "cell_type": "code",
   "execution_count": 1,
   "id": "initial_id",
   "metadata": {
    "collapsed": true,
    "ExecuteTime": {
     "end_time": "2024-05-22T06:08:29.836841Z",
     "start_time": "2024-05-22T06:08:29.290643Z"
    }
   },
   "outputs": [],
   "source": [
    "import cv2\n",
    "import matplotlib.pyplot as plt\n",
    "import numpy as np"
   ]
  },
  {
   "cell_type": "code",
   "outputs": [],
   "source": [
    "%matplotlib inline\n",
    "plt.rcParams['figure.figsize'] = (10, 10)\n",
    "plt.rcParams['image.interpolation'] = 'nearest'"
   ],
   "metadata": {
    "collapsed": false,
    "ExecuteTime": {
     "end_time": "2024-05-17T14:02:08.308116Z",
     "start_time": "2024-05-17T14:02:08.270594Z"
    }
   },
   "id": "6a10e9ca9558a265",
   "execution_count": 2
  },
  {
   "cell_type": "markdown",
   "source": [
    "## Prosta analiza obrazu termowizyjnego"
   ],
   "metadata": {
    "collapsed": false
   },
   "id": "1de04d7aa9cc03b6"
  },
  {
   "cell_type": "code",
   "outputs": [],
   "source": [
    "cap = cv2.VideoCapture('vid1_IR.avi')"
   ],
   "metadata": {
    "collapsed": false,
    "ExecuteTime": {
     "end_time": "2024-05-22T07:10:39.141036Z",
     "start_time": "2024-05-22T07:10:39.131034Z"
    }
   },
   "id": "25c06060ca633924",
   "execution_count": 2
  },
  {
   "cell_type": "code",
   "outputs": [],
   "source": [
    "while cap.isOpened():\n",
    "    ret, frame = cap.read()\n",
    "    if not ret:\n",
    "        break\n",
    "    \n",
    "    G = cv2.cvtColor(frame, cv2.COLOR_BGR2GRAY)\n",
    "    cv2.imshow('IR', G)\n",
    "    if cv2.waitKey(1) & 0xFF == ord('q'):\n",
    "        break\n",
    "    \n",
    "cap.release()\n",
    "cv2.destroyAllWindows()"
   ],
   "metadata": {
    "collapsed": false,
    "ExecuteTime": {
     "end_time": "2024-05-22T07:10:53.356118Z",
     "start_time": "2024-05-22T07:10:40.142193Z"
    }
   },
   "id": "e018adef14e93901",
   "execution_count": 3
  },
  {
   "cell_type": "code",
   "outputs": [],
   "source": [
    "def process_frame(current_frame: np.ndarray) -> np.ndarray:\n",
    "    original_image: np.ndarray = current_frame.copy()\n",
    "    \n",
    "    gray_image: np.ndarray = cv2.cvtColor(current_frame, cv2.COLOR_BGR2GRAY)\n",
    "    \n",
    "    _, threshold_image = cv2.threshold(gray_image, 45, 255, cv2.THRESH_BINARY)\n",
    "    median: np.ndarray = cv2.medianBlur(threshold_image, 7)\n",
    "    # Ta 'heurystyka', to po prostu dylatacja obrazu\n",
    "    dilated = cv2.dilate(median, np.ones((5, 5), np.uint8))\n",
    "    closed: np.ndarray = cv2.morphologyEx(dilated, cv2.MORPH_CLOSE, np.ones((7, 7), np.uint8), iterations=2)\n",
    "\n",
    "    num_labels, labels, stats, centroids = cv2.connectedComponentsWithStats(closed)\n",
    "    \n",
    "    objects_on_screen: bool = num_labels > 1\n",
    "    if objects_on_screen:\n",
    "        for object_index in range(1, num_labels):\n",
    "            x, y, w, h, area = stats[object_index]\n",
    "            \n",
    "            too_small: bool = area < 400\n",
    "            not_rectangle: bool = h < w + 10\n",
    "            if too_small or not_rectangle:\n",
    "                continue\n",
    "                \n",
    "            centroid_x, centroid_y = centroids[object_index]\n",
    "            \n",
    "            cv2.rectangle(original_image, (x, y), (x + w, y + h), (255, 0, 0), 2)\n",
    "            cv2.putText(original_image, str(object_index), (int(centroid_x), int(centroid_y)), cv2.FONT_HERSHEY_SIMPLEX, 1, (0, 255, 0), 1)\n",
    "    \n",
    "    return original_image\n",
    "\n",
    "def process_video(file: str) -> None:\n",
    "    capture = cv2.VideoCapture(file)\n",
    "\n",
    "    while capture.isOpened():\n",
    "        has_next_frame, current_frame = capture.read()\n",
    "        if not has_next_frame:\n",
    "            break\n",
    "    \n",
    "        new_image = process_frame(current_frame)\n",
    "        cv2.imshow('IR', new_image)\n",
    "        if cv2.waitKey(1) & 0xFF == ord('q'):\n",
    "            break\n",
    "\n",
    "    capture.release()\n",
    "    cv2.destroyAllWindows()\n",
    "\n",
    "process_video('vid1_IR.avi')"
   ],
   "metadata": {
    "collapsed": false,
    "ExecuteTime": {
     "end_time": "2024-05-22T07:12:21.169602Z",
     "start_time": "2024-05-22T07:12:04.356165Z"
    }
   },
   "id": "15d3a6ad0c9e9458",
   "execution_count": 6
  },
  {
   "cell_type": "code",
   "outputs": [],
   "source": [],
   "metadata": {
    "collapsed": false
   },
   "id": "b5b5e89694c29ef1"
  }
 ],
 "metadata": {
  "kernelspec": {
   "name": "zaw",
   "language": "python",
   "display_name": "ZAW"
  },
  "language_info": {
   "codemirror_mode": {
    "name": "ipython",
    "version": 2
   },
   "file_extension": ".py",
   "mimetype": "text/x-python",
   "name": "python",
   "nbconvert_exporter": "python",
   "pygments_lexer": "ipython2",
   "version": "2.7.6"
  }
 },
 "nbformat": 4,
 "nbformat_minor": 5
}
