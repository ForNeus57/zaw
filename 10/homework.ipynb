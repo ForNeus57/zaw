{
 "cells": [
  {
   "cell_type": "code",
   "outputs": [],
   "source": [
    "import cv2\n",
    "import matplotlib.pyplot as plt\n",
    "import numpy as np"
   ],
   "metadata": {
    "collapsed": false,
    "ExecuteTime": {
     "end_time": "2024-05-17T19:44:55.311143Z",
     "start_time": "2024-05-17T19:44:54.903115Z"
    }
   },
   "id": "5753266ee7891cae",
   "execution_count": 1
  },
  {
   "cell_type": "code",
   "outputs": [],
   "source": [
    "%matplotlib inline\n",
    "plt.rcParams['figure.figsize'] = (10, 10)\n",
    "plt.rcParams['image.interpolation'] = 'nearest'"
   ],
   "metadata": {
    "collapsed": false,
    "ExecuteTime": {
     "end_time": "2024-05-17T19:44:55.320709Z",
     "start_time": "2024-05-17T19:44:55.312148Z"
    }
   },
   "id": "ae683f9356634902",
   "execution_count": 2
  },
  {
   "cell_type": "markdown",
   "source": [
    "## Zadanie domowe – Detekcja obiektów z wykorzystaniem wzorca probabilistycznego"
   ],
   "metadata": {
    "collapsed": false
   },
   "id": "9f87ae0364143745"
  },
  {
   "cell_type": "code",
   "outputs": [],
   "source": [
    "import os\n",
    "\n",
    "os.mkdir('roi')"
   ],
   "metadata": {
    "collapsed": false,
    "ExecuteTime": {
     "end_time": "2024-05-17T21:37:27.246354Z",
     "start_time": "2024-05-17T21:37:27.242982Z"
    }
   },
   "id": "182f7f1ff0f92f33",
   "execution_count": 12
  },
  {
   "cell_type": "code",
   "outputs": [],
   "source": [
    "i_pedestrian_counter: int = 0\n",
    "\n",
    "\n",
    "def process_frame(current_frame: np.ndarray) -> np.ndarray:\n",
    "    original_image: np.ndarray = current_frame.copy()\n",
    "\n",
    "    gray_image: np.ndarray = cv2.cvtColor(current_frame, cv2.COLOR_BGR2GRAY)\n",
    "\n",
    "    _, threshold_image = cv2.threshold(gray_image, 45, 255, cv2.THRESH_BINARY)\n",
    "    median: np.ndarray = cv2.medianBlur(threshold_image, 7)\n",
    "    # Ta 'heurystyka', to po prostu dylatacja obrazu\n",
    "    dilated = cv2.dilate(median, np.ones((5, 5), np.uint8), iterations=2)\n",
    "    closed: np.ndarray = cv2.morphologyEx(dilated, cv2.MORPH_CLOSE, np.ones((7, 7), np.uint8), iterations=2)\n",
    "\n",
    "    num_labels, labels, stats, centroids = cv2.connectedComponentsWithStats(closed)\n",
    "\n",
    "    objects_on_screen: bool = num_labels > 1\n",
    "    if objects_on_screen:\n",
    "        for object_index in range(1, num_labels):\n",
    "            x, y, w, h, area = stats[object_index]\n",
    "\n",
    "            too_small: bool = area < 400\n",
    "            not_rectangle: bool = w > h + 10\n",
    "            if too_small or not_rectangle:\n",
    "                continue\n",
    "\n",
    "            roi = original_image[y: y + h, x: x + w]\n",
    "            \n",
    "            global i_pedestrian_counter\n",
    "\n",
    "            cv2.imwrite(f'roi/sample_{i_pedestrian_counter:06d}.png', roi)\n",
    "\n",
    "            i_pedestrian_counter += 1\n",
    "\n",
    "            centroid_x, centroid_y = centroids[object_index]\n",
    "\n",
    "            cv2.rectangle(original_image, (x, y), (x + w, y + h), (255, 0, 0), 2)\n",
    "            cv2.putText(original_image, str(object_index), (int(centroid_x), int(centroid_y)), cv2.FONT_HERSHEY_SIMPLEX, 1, (0, 255, 0), 1)\n",
    "\n",
    "    return original_image\n",
    "\n",
    "def process_video(file: str) -> None:\n",
    "    capture = cv2.VideoCapture(file)\n",
    "\n",
    "    while capture.isOpened():\n",
    "        has_next_frame, current_frame = capture.read()\n",
    "        if not has_next_frame:\n",
    "            break\n",
    "\n",
    "        new_image = process_frame(current_frame)\n",
    "        cv2.imshow('IR', new_image)\n",
    "        if cv2.waitKey(1) & 0xFF == ord('q'):\n",
    "            break\n",
    "\n",
    "    capture.release()\n",
    "    cv2.destroyAllWindows()\n",
    "\n",
    "process_video('vid1_IR.avi')"
   ],
   "metadata": {
    "collapsed": false,
    "ExecuteTime": {
     "end_time": "2024-05-17T21:37:42.338041Z",
     "start_time": "2024-05-17T21:37:32.200878Z"
    }
   },
   "id": "3ebbdb9c1cb3641c",
   "execution_count": 13
  },
  {
   "cell_type": "code",
   "execution_count": 5,
   "id": "initial_id",
   "metadata": {
    "collapsed": true,
    "ExecuteTime": {
     "end_time": "2024-05-17T19:47:00.650883Z",
     "start_time": "2024-05-17T19:47:00.648889Z"
    }
   },
   "outputs": [],
   "source": []
  }
 ],
 "metadata": {
  "kernelspec": {
   "name": "zaw",
   "language": "python",
   "display_name": "ZAW"
  },
  "language_info": {
   "codemirror_mode": {
    "name": "ipython",
    "version": 2
   },
   "file_extension": ".py",
   "mimetype": "text/x-python",
   "name": "python",
   "nbconvert_exporter": "python",
   "pygments_lexer": "ipython2",
   "version": "2.7.6"
  }
 },
 "nbformat": 4,
 "nbformat_minor": 5
}
