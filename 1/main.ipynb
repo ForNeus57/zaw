{
 "cells": [
  {
   "cell_type": "code",
   "execution_count": 1,
   "id": "initial_id",
   "metadata": {
    "collapsed": true,
    "ExecuteTime": {
     "end_time": "2024-03-06T13:06:24.562752900Z",
     "start_time": "2024-03-06T13:06:23.322788400Z"
    }
   },
   "outputs": [],
   "source": [
    "import cv2\n",
    "import numpy as np\n",
    "import matplotlib.pyplot as plt"
   ]
  },
  {
   "cell_type": "code",
   "outputs": [],
   "source": [
    "mandrill: np.ndarray = cv2.imread('mandril.jpg', cv2.IMREAD_COLOR)"
   ],
   "metadata": {
    "collapsed": false,
    "ExecuteTime": {
     "end_time": "2024-03-06T13:06:24.574225300Z",
     "start_time": "2024-03-06T13:06:24.562752900Z"
    }
   },
   "id": "411c7f5d4d325ac2",
   "execution_count": 2
  },
  {
   "cell_type": "code",
   "outputs": [],
   "source": [
    "cv2.imshow('Mandrill', mandrill)\n",
    "cv2.waitKey(0)\n",
    "cv2.destroyAllWindows()"
   ],
   "metadata": {
    "collapsed": false,
    "is_executing": true,
    "ExecuteTime": {
     "start_time": "2024-03-06T13:06:24.575218100Z"
    }
   },
   "id": "41f6852131be0303",
   "execution_count": null
  },
  {
   "cell_type": "code",
   "outputs": [],
   "source": [
    "cv2.imwrite(\"mandrill.png\", mandrill)"
   ],
   "metadata": {
    "collapsed": false,
    "is_executing": true
   },
   "id": "a7dfb1e1b44b734a",
   "execution_count": null
  },
  {
   "cell_type": "code",
   "outputs": [],
   "source": [
    "mandrill[:, :, 0]"
   ],
   "metadata": {
    "collapsed": false,
    "is_executing": true
   },
   "id": "77b90349977d7a39",
   "execution_count": null
  },
  {
   "cell_type": "code",
   "outputs": [],
   "source": [
    "mandrill[:, :, 1]"
   ],
   "metadata": {
    "collapsed": false,
    "is_executing": true
   },
   "id": "42beeaac450e2eee",
   "execution_count": null
  },
  {
   "cell_type": "code",
   "outputs": [],
   "source": [
    "mandrill[:, :, 2]"
   ],
   "metadata": {
    "collapsed": false,
    "is_executing": true
   },
   "id": "d0600e15cb5d40da",
   "execution_count": null
  },
  {
   "cell_type": "code",
   "outputs": [],
   "source": [
    "mandrill.shape"
   ],
   "metadata": {
    "collapsed": false,
    "is_executing": true
   },
   "id": "1c0cfe1f280094ea",
   "execution_count": null
  },
  {
   "cell_type": "code",
   "outputs": [],
   "source": [
    "mandrill.size"
   ],
   "metadata": {
    "collapsed": false,
    "is_executing": true
   },
   "id": "2f8d8627f439fa91",
   "execution_count": null
  },
  {
   "cell_type": "code",
   "outputs": [],
   "source": [
    "mandrill.dtype"
   ],
   "metadata": {
    "collapsed": false,
    "is_executing": true
   },
   "id": "3c6fe2b5535c51b0",
   "execution_count": null
  },
  {
   "cell_type": "code",
   "outputs": [],
   "source": [
    "mandrill: np.ndarray = plt.imread('mandril.jpg')"
   ],
   "metadata": {
    "collapsed": false,
    "is_executing": true
   },
   "id": "5d347490b3bff451",
   "execution_count": null
  },
  {
   "cell_type": "code",
   "outputs": [],
   "source": [
    "plt.figure(1)\n",
    "plt.imshow(mandrill)\n",
    "plt.title('Mandrill')\n",
    "plt.axis('off')\n",
    "plt.show()"
   ],
   "metadata": {
    "collapsed": false,
    "is_executing": true
   },
   "id": "ae8f482e172893d",
   "execution_count": null
  },
  {
   "cell_type": "code",
   "outputs": [],
   "source": [
    "plt.imsave('mandrill.png', mandrill)"
   ],
   "metadata": {
    "collapsed": false,
    "is_executing": true
   },
   "id": "d4241acf0bd2d0ea",
   "execution_count": null
  },
  {
   "cell_type": "code",
   "outputs": [],
   "source": [
    "x = [100, 150, 200, 250]\n",
    "y = [50, 100, 150, 200]\n",
    "plt.plot(x, y, 'r.', markersize=10)"
   ],
   "metadata": {
    "collapsed": false,
    "is_executing": true
   },
   "id": "121b98d9c46c1034",
   "execution_count": null
  },
  {
   "cell_type": "code",
   "outputs": [],
   "source": [
    "from matplotlib.patches import Rectangle\n",
    "\n",
    "fig, ax = plt.subplots(1)\n",
    "\n",
    "rect = Rectangle((50, 50), 50, 100, fill=False, ec='r')\n",
    "ax.add_patch(rect)\n",
    "\n",
    "plt.imshow(mandrill)\n",
    "plt.show()"
   ],
   "metadata": {
    "collapsed": false,
    "is_executing": true
   },
   "id": "fb742ccd35bea11d",
   "execution_count": null
  },
  {
   "cell_type": "code",
   "outputs": [],
   "source": [
    "mandrill_gray = cv2.cvtColor(mandrill, cv2.COLOR_BGR2GRAY)\n",
    "mandrill_hsv = cv2.cvtColor(mandrill, cv2.COLOR_BGR2HSV)"
   ],
   "metadata": {
    "collapsed": false,
    "is_executing": true
   },
   "id": "44100dd879e67aa0",
   "execution_count": null
  },
  {
   "cell_type": "code",
   "outputs": [],
   "source": [
    "mandrill_hsv_h = mandrill_hsv[:, :, 0]\n",
    "mandrill_hsv_s = mandrill_hsv[:, :, 1]\n",
    "mandrill_hsv_v = mandrill_hsv[:, :, 2]"
   ],
   "metadata": {
    "collapsed": false,
    "is_executing": true
   },
   "id": "cafb5f0eb21a4913",
   "execution_count": null
  },
  {
   "cell_type": "code",
   "outputs": [],
   "source": [
    "plt.imshow(mandrill_gray, cmap='gray')"
   ],
   "metadata": {
    "collapsed": false,
    "is_executing": true
   },
   "id": "17c395bae2a97b2a",
   "execution_count": null
  },
  {
   "cell_type": "code",
   "outputs": [],
   "source": [
    "plt.imshow(mandrill_hsv_h, cmap='hsv')"
   ],
   "metadata": {
    "collapsed": false,
    "is_executing": true
   },
   "id": "4fcd016bc9cdfba2",
   "execution_count": null
  },
  {
   "cell_type": "code",
   "outputs": [],
   "source": [
    "plt.imshow(mandrill_hsv_s, cmap='gray')"
   ],
   "metadata": {
    "collapsed": false,
    "is_executing": true
   },
   "id": "c26396f6b49c849e",
   "execution_count": null
  },
  {
   "cell_type": "code",
   "outputs": [],
   "source": [
    "plt.imshow(mandrill_hsv_v, cmap='gray')"
   ],
   "metadata": {
    "collapsed": false,
    "is_executing": true
   },
   "id": "97eeb46a9aea0550",
   "execution_count": null
  },
  {
   "cell_type": "code",
   "outputs": [],
   "source": [
    "def rgb_to_gray(image: np.ndarray) -> np.ndarray:\n",
    "\treturn 0.299 * image[:, :, 0] + 0.587 * image[:, :, 1] + 0.114 * image[:, :, 2]"
   ],
   "metadata": {
    "collapsed": false,
    "is_executing": true
   },
   "id": "6d2f682bf763c656",
   "execution_count": null
  },
  {
   "cell_type": "code",
   "outputs": [],
   "source": [
    "import matplotlib\n",
    "\n",
    "mandrill_hsv: np.ndarray = matplotlib.colors.rgb_to_hsv(mandrill)"
   ],
   "metadata": {
    "collapsed": false,
    "is_executing": true
   },
   "id": "debba5450521225d",
   "execution_count": null
  },
  {
   "cell_type": "code",
   "outputs": [],
   "source": [
    "height, width = mandrill.shape[:2]\n",
    "scale: float = 1.75\n",
    "mandrill_big: np.ndarray = cv2.resize(mandrill, (int(scale * width), int(scale * height)))[:, :, ::-1]"
   ],
   "metadata": {
    "collapsed": false,
    "is_executing": true
   },
   "id": "5082cf200aa23d8a",
   "execution_count": null
  },
  {
   "cell_type": "code",
   "outputs": [],
   "source": [
    "cv2.imshow('Big Mandrill', mandrill_big)\n",
    "cv2.waitKey(0)\n",
    "cv2.destroyAllWindows()"
   ],
   "metadata": {
    "collapsed": false,
    "is_executing": true
   },
   "id": "c5565c8e9d0e676f",
   "execution_count": null
  },
  {
   "cell_type": "code",
   "outputs": [],
   "source": [
    "lena: np.ndarray = cv2.imread('lena.png', cv2.IMREAD_COLOR)\n",
    "lena_gray: np.ndarray = rgb_to_gray(lena)\n",
    "\n",
    "plt.imshow(lena_gray, cmap='gray')"
   ],
   "metadata": {
    "collapsed": false,
    "is_executing": true
   },
   "id": "d3dc1603a643bc86",
   "execution_count": null
  },
  {
   "cell_type": "code",
   "outputs": [],
   "source": [
    "added_result: np.ndarray = cv2.add(mandrill_gray.astype(np.uint16), lena_gray.astype(np.uint16))\n",
    "\n",
    "plt.imshow(added_result, cmap='gray')"
   ],
   "metadata": {
    "collapsed": false,
    "is_executing": true
   },
   "id": "7f529a46e55ef25e",
   "execution_count": null
  },
  {
   "cell_type": "code",
   "outputs": [],
   "source": [
    "subtracted_result: np.ndarray = cv2.subtract(mandrill_gray.astype(np.int16), lena_gray.astype(np.int16))\n",
    "\n",
    "plt.imshow(subtracted_result, cmap='gray')"
   ],
   "metadata": {
    "collapsed": false,
    "is_executing": true
   },
   "id": "7501370e093cf6b9",
   "execution_count": null
  },
  {
   "cell_type": "code",
   "outputs": [],
   "source": [
    "multiplied_result: np.ndarray = cv2.multiply(mandrill_gray.astype(np.float32), lena_gray.astype(np.float32))\n",
    "\n",
    "plt.imshow(multiplied_result, cmap='gray')"
   ],
   "metadata": {
    "collapsed": false,
    "is_executing": true
   },
   "id": "7d7bceaf054b47a8",
   "execution_count": null
  },
  {
   "cell_type": "code",
   "outputs": [],
   "source": [
    "linear_combination_result: np.ndarray = cv2.addWeighted(mandrill_gray.astype(np.uint8), 0.7, lena_gray.astype(np.uint8), 0.3, 0)\n",
    "\n",
    "plt.imshow(linear_combination_result, cmap='gray')"
   ],
   "metadata": {
    "collapsed": false,
    "is_executing": true
   },
   "id": "9fda8f3880d9945b",
   "execution_count": null
  },
  {
   "cell_type": "code",
   "outputs": [],
   "source": [
    "absolut_difference_result: np.ndarray = cv2.absdiff(mandrill_gray.astype(np.uint8), lena_gray.astype(np.uint8))\n",
    "\n",
    "plt.imshow(absolut_difference_result, cmap='gray')"
   ],
   "metadata": {
    "collapsed": false,
    "is_executing": true
   },
   "id": "3cfe8c9b9d382362",
   "execution_count": null
  },
  {
   "cell_type": "code",
   "outputs": [],
   "source": [
    "def hist(image: np.ndarray) -> np.ndarray:\n",
    "\toutput: np.ndarray = np.zeros((2 ** np.iinfo(image.dtype).bits, 1), dtype=np.uint64) # creates and zeros single-column arrays\n",
    "\timage_height, image_width = image.shape[:2] # shape - we take the first 2 values\n",
    "\t\n",
    "\tfor x_index in range(image_width):\n",
    "\t\tfor y_index in range(image_height):\n",
    "\t\t\toutput[image[x_index, y_index]] += 1\n",
    "\n",
    "\treturn output\n",
    "\n",
    "plt.plot(hist(mandrill_gray))"
   ],
   "metadata": {
    "collapsed": false,
    "is_executing": true
   },
   "id": "109207dcd45746ed",
   "execution_count": null
  },
  {
   "cell_type": "code",
   "outputs": [],
   "source": [
    "plt.hist(mandrill_gray.ravel(), 256, (0.0, 256.00))"
   ],
   "metadata": {
    "collapsed": false,
    "is_executing": true
   },
   "id": "bbec2adb2b32725f",
   "execution_count": null
  },
  {
   "cell_type": "code",
   "outputs": [],
   "source": [
    "histogram_mandrill_gray: np.ndarray = cv2.calcHist([mandrill_gray], [0], None, [256], [0, 256])\n",
    "\n",
    "plt.plot(histogram_mandrill_gray)"
   ],
   "metadata": {
    "collapsed": false,
    "is_executing": true
   },
   "id": "bcb0eac63d274ed0",
   "execution_count": null
  },
  {
   "cell_type": "code",
   "outputs": [],
   "source": [
    "equalized_histogram_mandrill_gray: np.ndarray = cv2.equalizeHist(mandrill_gray)\n",
    "\n",
    "plt.imshow(equalized_histogram_mandrill_gray, cmap='gray')"
   ],
   "metadata": {
    "collapsed": false,
    "is_executing": true
   },
   "id": "bf60cae791f58b",
   "execution_count": null
  },
  {
   "cell_type": "code",
   "outputs": [],
   "source": [
    "plt.hist(equalized_histogram_mandrill_gray.ravel(), 256, (0.0, 256.0))"
   ],
   "metadata": {
    "collapsed": false,
    "is_executing": true
   },
   "id": "4e773bd1b4e58ff",
   "execution_count": null
  },
  {
   "cell_type": "code",
   "outputs": [],
   "source": [
    "clahe: cv2.CLAHE = cv2.createCLAHE(clipLimit=2.0, tileGridSize=(8, 8))\n",
    "\n",
    "clahe_mandrill_gray: np.ndarray = clahe.apply(mandrill_gray)\n",
    "\n",
    "plt.imshow(clahe_mandrill_gray, cmap='gray')"
   ],
   "metadata": {
    "collapsed": false,
    "is_executing": true
   },
   "id": "1f73e623a7381a75",
   "execution_count": null
  },
  {
   "cell_type": "code",
   "outputs": [],
   "source": [
    "plt.hist(clahe_mandrill_gray.ravel(), 256, (0.0, 256.0))"
   ],
   "metadata": {
    "collapsed": false,
    "is_executing": true
   },
   "id": "5a9137a1eb7af97c",
   "execution_count": null
  },
  {
   "cell_type": "code",
   "outputs": [],
   "source": [
    "plt.imshow(cv2.GaussianBlur(mandrill_gray, (9, 9), 0), cmap='gray')"
   ],
   "metadata": {
    "collapsed": false,
    "is_executing": true
   },
   "id": "3b245f7a7249701",
   "execution_count": null
  },
  {
   "cell_type": "code",
   "outputs": [],
   "source": [
    "def produce_filtered_image_with_custom_kernel(source: np.ndarray, kernel: np.ndarray, normalizer: float | int) -> np.ndarray:\n",
    "    kernel = kernel / normalizer\n",
    "\n",
    "    result_image: np.ndarray = np.zeros(source.shape, dtype=source.dtype)\n",
    "\n",
    "    cv2.filter2D(source, -1, kernel, dst=result_image)\n",
    "\n",
    "    return result_image\n",
    "\n",
    "def produce_filtered_sobel_image(source: np.ndarray) -> np.ndarray:\n",
    "\treturn produce_filtered_image_with_custom_kernel(source, np.array([[-1, 0, 1], [-2, 0, 2], [-1, 0, 1]]), 1)\n",
    "\n",
    "def produce_filtered_laplacian_image(source: np.ndarray) -> np.ndarray:\n",
    "\treturn produce_filtered_image_with_custom_kernel(source, np.array([[0, 1, 0], [1, -4, 1], [0, 1, 0]]), 1)\n",
    "\n",
    "def produce_filtered_median_image(source: np.ndarray) -> np.ndarray:\n",
    "\treturn cv2.medianBlur(source, 5)"
   ],
   "metadata": {
    "collapsed": false,
    "is_executing": true
   },
   "id": "485f37490cbca23c",
   "execution_count": null
  },
  {
   "cell_type": "code",
   "outputs": [],
   "source": [
    "plt.imshow(produce_filtered_sobel_image(mandrill_gray), cmap='gray')"
   ],
   "metadata": {
    "collapsed": false,
    "is_executing": true
   },
   "id": "b83eb5bdddc9186b",
   "execution_count": null
  },
  {
   "cell_type": "code",
   "outputs": [],
   "source": [
    "plt.imshow(produce_filtered_laplacian_image(mandrill_gray), cmap='gray')"
   ],
   "metadata": {
    "collapsed": false,
    "is_executing": true
   },
   "id": "fbbbd3123f29d88f",
   "execution_count": null
  },
  {
   "cell_type": "code",
   "outputs": [],
   "source": [
    "plt.imshow(produce_filtered_median_image(mandrill_gray), cmap='gray')"
   ],
   "metadata": {
    "collapsed": false,
    "is_executing": true
   },
   "id": "ab440e962586396a",
   "execution_count": null
  }
 ],
 "metadata": {
  "kernelspec": {
   "name": "zaw",
   "language": "python",
   "display_name": "ZAW"
  },
  "language_info": {
   "codemirror_mode": {
    "name": "ipython",
    "version": 2
   },
   "file_extension": ".py",
   "mimetype": "text/x-python",
   "name": "python",
   "nbconvert_exporter": "python",
   "pygments_lexer": "ipython2",
   "version": "2.7.6"
  }
 },
 "nbformat": 4,
 "nbformat_minor": 5
}
